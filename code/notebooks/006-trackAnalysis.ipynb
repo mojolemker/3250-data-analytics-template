{
 "cells": [
  {
   "cell_type": "code",
   "execution_count": null,
   "metadata": {
    "vscode": {
     "languageId": "plaintext"
    }
   },
   "outputs": [],
   "source": [
    "# Scatter plot of instrumentalness vs. energy, color-coded by genre_group\n",
    "plt.figure(figsize=(8, 6))\n",
    "sns.scatterplot(data=streaming_df, x='loudness', y='energy', hue='genre_group', palette='pastel')\n",
    "plt.title('Instrumentalness vs. Energy by Genre Group')\n",
    "plt.xlabel('Instrumentalness')\n",
    "plt.ylabel('Energy')\n",
    "plt.legend(title='Genre Group')\n",
    "plt.show()"
   ]
  }
 ],
 "metadata": {
  "language_info": {
   "name": "python"
  }
 },
 "nbformat": 4,
 "nbformat_minor": 2
}
