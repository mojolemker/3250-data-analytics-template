{
 "cells": [
  {
   "cell_type": "markdown",
   "metadata": {},
   "source": [
    "# Data Scrape\n",
    "Gathering from https://kworb.net/spotify/songs.html#google_vignette"
   ]
  },
  {
   "cell_type": "code",
   "execution_count": 3,
   "metadata": {},
   "outputs": [],
   "source": [
    "import pandas as pd\n",
    "import os\n",
    "from selenium import webdriver\n",
    "from selenium.webdriver.common.by import By # used to import different ways to access data in the XML or HTML file\n",
    "from selenium.webdriver.chrome.service import Service # no longer need to download a driver file, use service\n",
    "from webdriver_manager.chrome import ChromeDriverManager # used to manage the Chrome driver to emulate a Chrome web browser\n",
    "\n",
    "import time\n",
    "import random"
   ]
  },
  {
   "cell_type": "code",
   "execution_count": null,
   "metadata": {},
   "outputs": [],
   "source": [
    "# Initialize the Selenium web driver\n",
    "browser = webdriver.Chrome()\n",
    "# Create function for random scrolling\n",
    "def random_scroll(browser, total_wait_time):\n",
    "    # get the total height of the page\n",
    "    total_height = browser.execute_script(\"return document.body.scrollHeight\")\n",
    "    \n",
    "    # number of steps to scroll (you can adjust this number)\n",
    "    scroll_steps = random.randint(3, 10) # randomize how many scroll steps we will use\n",
    "    \n",
    "    # calculate the height to scroll on each step\n",
    "    scroll_increment = total_height // scroll_steps\n",
    "\n",
    "    # calculate the total time available for scrolling each step\n",
    "    time_per_step = total_wait_time / scroll_steps\n",
    "    \n",
    "    # random scrolling across time\n",
    "    for step in range(scroll_steps):\n",
    "        # scroll by the increment (dividing total height by number of steps)\n",
    "        browser.execute_script(f\"window.scrollBy(0, {scroll_increment});\")\n",
    "        \n",
    "        # random wait time between scrolls to simulate varying speed\n",
    "        random_wait = random.uniform(0.5 * time_per_step, 1.5 * time_per_step)  # randomize the wait within a range\n",
    "        time.sleep(random_wait)\n",
    "        \n",
    "    # final scroll to make sure you are at the very bottom (in case it didn't exactly match)\n",
    "    browser.execute_script(\"window.scrollTo(0, document.body.scrollHeight);\")"
   ]
  }
 ],
 "metadata": {
  "kernelspec": {
   "display_name": "base",
   "language": "python",
   "name": "python3"
  },
  "language_info": {
   "codemirror_mode": {
    "name": "ipython",
    "version": 3
   },
   "file_extension": ".py",
   "mimetype": "text/x-python",
   "name": "python",
   "nbconvert_exporter": "python",
   "pygments_lexer": "ipython3",
   "version": "3.12.2"
  }
 },
 "nbformat": 4,
 "nbformat_minor": 2
}
