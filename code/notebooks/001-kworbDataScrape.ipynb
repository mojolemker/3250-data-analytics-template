{
 "cells": [
  {
   "cell_type": "markdown",
   "metadata": {},
   "source": []
  },
  {
   "cell_type": "markdown",
   "metadata": {},
   "source": [
    "# Data Scrape\n",
    "Gathering from https://kworb.net/spotify/songs.html#google_vignette"
   ]
  },
  {
   "cell_type": "code",
   "execution_count": 5,
   "metadata": {},
   "outputs": [],
   "source": [
    "import pandas as pd\n",
    "import os\n",
    "from selenium import webdriver\n",
    "from selenium.webdriver.common.by import By # used to import different ways to access data in the XML or HTML file\n",
    "from selenium.webdriver.chrome.service import Service # no longer need to download a driver file, use service\n",
    "from webdriver_manager.chrome import ChromeDriverManager # used to manage the Chrome driver to emulate a Chrome web browser\n",
    "\n",
    "import time\n",
    "import random"
   ]
  },
  {
   "cell_type": "code",
   "execution_count": 6,
   "metadata": {},
   "outputs": [],
   "source": [
    "# Define Scrolling function\n",
    "# Initialize the Selenium web driver\n",
    "browser = webdriver.Chrome()\n",
    "# Create function for random scrolling\n",
    "def random_scroll(browser, total_wait_time):\n",
    "    # get the total height of the page\n",
    "    total_height = browser.execute_script(\"return document.body.scrollHeight\")\n",
    "    \n",
    "    # number of steps to scroll (you can adjust this number)\n",
    "    scroll_steps = random.randint(3, 10) # randomize how many scroll steps we will use\n",
    "    \n",
    "    # calculate the height to scroll on each step\n",
    "    scroll_increment = total_height // scroll_steps\n",
    "\n",
    "    # calculate the total time available for scrolling each step\n",
    "    time_per_step = total_wait_time / scroll_steps\n",
    "    \n",
    "    # random scrolling across time\n",
    "    for step in range(scroll_steps):\n",
    "        # scroll by the increment (dividing total height by number of steps)\n",
    "        browser.execute_script(f\"window.scrollBy(0, {scroll_increment});\")\n",
    "        \n",
    "        # random wait time between scrolls to simulate varying speed\n",
    "        random_wait = random.uniform(0.5 * time_per_step, 1.5 * time_per_step)  # randomize the wait within a range\n",
    "        time.sleep(random_wait)\n",
    "        \n",
    "    # final scroll to make sure you are at the very bottom (in case it didn't exactly match)\n",
    "    browser.execute_script(\"window.scrollTo(0, document.body.scrollHeight);\")"
   ]
  },
  {
   "cell_type": "code",
   "execution_count": 12,
   "metadata": {},
   "outputs": [],
   "source": [
    "# Begin Scraping actual data\n",
    "browser.maximize_window()\n",
    "\n",
    "#Define URL\n",
    "url = 'https://kworb.net/spotify/songs.html'\n",
    "# Navigate to url\n",
    "browser.get(url)\n",
    "# Wait a random amount of time\n",
    "time.sleep(random.uniform(3,7))\n",
    "total_wait_time = random.uniform(3,7)\n",
    "# Perform a random scroll with set amount of time from above\n",
    "random_scroll(browser, total_wait_time)\n",
    "\n",
    "# Find the table with data\n",
    "song_data_table = browser.find_elements(By.XPATH, \".//div[@class='subcontainer']//table\")\n"
   ]
  },
  {
   "cell_type": "code",
   "execution_count": 17,
   "metadata": {},
   "outputs": [
    {
     "name": "stdout",
     "output_type": "stream",
     "text": [
      "Finished Scraping\n"
     ]
    }
   ],
   "source": [
    "# Define dict for holding information\n",
    "stream_data_dict = []\n",
    "# Iterate through the tables\n",
    "for table in song_data_table:\n",
    "    rows = table.find_elements(By.XPATH, \".//tbody/tr\")  # Select all rows in the table's body\n",
    "    for row in rows:\n",
    "        try:\n",
    "            # Extract artist and song data\n",
    "            artist_song = row.find_element(By.XPATH, \".//td[@class='text']/div\").text\n",
    "            streams = row.find_element(By.XPATH, \"./td[2]\").text\n",
    "            daily = row.find_element(By.XPATH, \"./td[3]\").text\n",
    "\n",
    "            stream_data_dict.append({\n",
    "                \"Artist/Song\": artist_song,\n",
    "                \"Streams\": streams,\n",
    "                \"Daily\": daily\n",
    "            })\n",
    "        except Exception as e:\n",
    "            # Handle cases where the expected element doesn't exist\n",
    "            print(f\"Error: {e}\")\n",
    "print(\"Finished Scraping\")"
   ]
  },
  {
   "cell_type": "code",
   "execution_count": 20,
   "metadata": {},
   "outputs": [],
   "source": [
    "# Load Data into DF\n",
    "stream_data_df = pd.DataFrame(stream_data_dict)"
   ]
  },
  {
   "cell_type": "code",
   "execution_count": 22,
   "metadata": {},
   "outputs": [],
   "source": [
    "# Save into a csv for cleaning\n",
    "stream_data_df.to_csv('/Users/joseflemker/Documents/GitHub/3250-data-analytics-template/data/rawstream_dataRaw.csv', encoding='utf-8', index=False)"
   ]
  },
  {
   "cell_type": "code",
   "execution_count": null,
   "metadata": {},
   "outputs": [],
   "source": []
  }
 ],
 "metadata": {
  "kernelspec": {
   "display_name": "base",
   "language": "python",
   "name": "python3"
  },
  "language_info": {
   "codemirror_mode": {
    "name": "ipython",
    "version": 3
   },
   "file_extension": ".py",
   "mimetype": "text/x-python",
   "name": "python",
   "nbconvert_exporter": "python",
   "pygments_lexer": "ipython3",
   "version": "3.12.2"
  }
 },
 "nbformat": 4,
 "nbformat_minor": 2
}
