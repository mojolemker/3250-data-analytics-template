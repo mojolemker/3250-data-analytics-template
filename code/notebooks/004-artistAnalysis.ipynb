{
 "cells": [
  {
   "cell_type": "markdown",
   "metadata": {},
   "source": [
    "# Investigating arrtists\n",
    "This code will look into\n",
    "- What artists have the most total streams and how many songs do they have\n",
    "- What artists have the biggest amount of daily streams and which ones are one hit wonders\n",
    "- What are some of the average amounts of total streams for artists"
   ]
  },
  {
   "cell_type": "code",
   "execution_count": 4,
   "metadata": {},
   "outputs": [],
   "source": [
    "# Imports\n",
    "import pandas as pd"
   ]
  },
  {
   "cell_type": "code",
   "execution_count": 5,
   "metadata": {},
   "outputs": [],
   "source": [
    "# Load in our data\n",
    "streaming_df = pd.read_csv('/Users/joseflemker/Documents/GitHub/3250-data-analytics-template/data/finished/merged_data_finished.csv', encoding='utf-8')"
   ]
  },
  {
   "cell_type": "code",
   "execution_count": 13,
   "metadata": {},
   "outputs": [
    {
     "name": "stdout",
     "output_type": "stream",
     "text": [
      "         artist_name  total_streams_sum  song_count\n",
      "230       The Weeknd       2.100950e+10          10\n",
      "66        Ed Sheeran       1.343357e+10           7\n",
      "241     XXXTENTACION       1.139211e+10           6\n",
      "90      Harry Styles       9.384717e+09           5\n",
      "69            Eminem       9.054852e+09           5\n",
      "117    Justin Bieber       8.568378e+09           7\n",
      "139      Linkin Park       8.080838e+09           7\n",
      "173   Olivia Rodrigo       8.063655e+09           5\n",
      "96   Imagine Dragons       7.638848e+09           5\n",
      "61             Drake       7.440048e+09           3\n"
     ]
    }
   ],
   "source": [
    "# Filter for artists with the most amount of total streams\n",
    "most_streams = streaming_df.groupby('artist_name').agg(\n",
    "    total_streams_sum = ('total_streams', 'sum'),\n",
    "    song_count=('track_name', 'count')\n",
    ").reset_index()\n",
    "\n",
    "#Print the top 10\n",
    "print(most_streams.sort_values(by='total_streams_sum', ascending=False).head(10))\n"
   ]
  },
  {
   "cell_type": "code",
   "execution_count": 14,
   "metadata": {},
   "outputs": [
    {
     "name": "stdout",
     "output_type": "stream",
     "text": [
      "              artist_name  max_daily_steams  song_count\n",
      "141            Lord Huron         3162572.0           1\n",
      "15         Arctic Monkeys         2885563.0           2\n",
      "228     The Neighbourhood         2882322.0           5\n",
      "36             Bruno Mars         2854454.0           3\n",
      "174         One Direction         2728422.0           2\n",
      "48               Coldplay         2635718.0           2\n",
      "139           Linkin Park         2289070.0           7\n",
      "239             Vance Joy         2278425.0           2\n",
      "234             Tom Odell         1983132.0           1\n",
      "46   Cigarettes After Sex         1968385.0           2\n"
     ]
    }
   ],
   "source": [
    "# Filter for artists with the most amount of total streams\n",
    "most_streams = streaming_df.groupby('artist_name').agg(\n",
    "    max_daily_steams = ('daily_streams', 'max'),\n",
    "    song_count=('track_name', 'count')\n",
    ").reset_index()\n",
    "\n",
    "#Print the top 10\n",
    "print(most_streams.sort_values(by='max_daily_steams', ascending=False).head(10))"
   ]
  },
  {
   "cell_type": "code",
   "execution_count": 15,
   "metadata": {},
   "outputs": [
    {
     "name": "stdout",
     "output_type": "stream",
     "text": [
      "              artist_name  average_total_streams  song_count\n",
      "141            Lord Huron           3.162572e+06           1\n",
      "48               Coldplay           2.083148e+06           2\n",
      "36             Bruno Mars           2.029201e+06           3\n",
      "15         Arctic Monkeys           2.007437e+06           2\n",
      "234             Tom Odell           1.983132e+06           1\n",
      "92             Hotel Ugly           1.756541e+06           1\n",
      "46   Cigarettes After Sex           1.570197e+06           2\n",
      "174         One Direction           1.550584e+06           2\n",
      "228     The Neighbourhood           1.459012e+06           5\n",
      "251                  d4vd           1.381478e+06           1\n"
     ]
    }
   ],
   "source": [
    "# Filter for artists with the most amount of total streams\n",
    "most_streams = streaming_df.groupby('artist_name').agg(\n",
    "    average_total_streams = ('daily_streams', 'mean'),\n",
    "    song_count=('track_name', 'count')\n",
    ").reset_index()\n",
    "\n",
    "#Print the top 10\n",
    "print(most_streams.sort_values(by='average_total_streams', ascending=False).head(10))"
   ]
  },
  {
   "cell_type": "code",
   "execution_count": null,
   "metadata": {},
   "outputs": [],
   "source": []
  }
 ],
 "metadata": {
  "kernelspec": {
   "display_name": "base",
   "language": "python",
   "name": "python3"
  },
  "language_info": {
   "codemirror_mode": {
    "name": "ipython",
    "version": 3
   },
   "file_extension": ".py",
   "mimetype": "text/x-python",
   "name": "python",
   "nbconvert_exporter": "python",
   "pygments_lexer": "ipython3",
   "version": "3.12.2"
  }
 },
 "nbformat": 4,
 "nbformat_minor": 2
}
