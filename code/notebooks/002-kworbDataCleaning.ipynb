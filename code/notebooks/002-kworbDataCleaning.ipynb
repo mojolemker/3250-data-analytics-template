{
 "cells": [
  {
   "cell_type": "markdown",
   "metadata": {},
   "source": [
    "# Cleaning Kworb Data"
   ]
  },
  {
   "cell_type": "code",
   "execution_count": 2,
   "metadata": {},
   "outputs": [],
   "source": [
    "# Imports\n",
    "import pandas as pd"
   ]
  },
  {
   "cell_type": "code",
   "execution_count": 6,
   "metadata": {},
   "outputs": [],
   "source": [
    "# Load in kworb data\n",
    "raw_kword_df = pd.read_csv('/Users/joseflemker/Documents/GitHub/3250-data-analytics-template/data/rawstream_dataRaw.csv')"
   ]
  },
  {
   "cell_type": "code",
   "execution_count": 7,
   "metadata": {},
   "outputs": [
    {
     "data": {
      "text/html": [
       "<div>\n",
       "<style scoped>\n",
       "    .dataframe tbody tr th:only-of-type {\n",
       "        vertical-align: middle;\n",
       "    }\n",
       "\n",
       "    .dataframe tbody tr th {\n",
       "        vertical-align: top;\n",
       "    }\n",
       "\n",
       "    .dataframe thead th {\n",
       "        text-align: right;\n",
       "    }\n",
       "</style>\n",
       "<table border=\"1\" class=\"dataframe\">\n",
       "  <thead>\n",
       "    <tr style=\"text-align: right;\">\n",
       "      <th></th>\n",
       "      <th>Artist/Song</th>\n",
       "      <th>Streams</th>\n",
       "      <th>Daily</th>\n",
       "    </tr>\n",
       "  </thead>\n",
       "  <tbody>\n",
       "    <tr>\n",
       "      <th>0</th>\n",
       "      <td>The Weeknd - Blinding Lights</td>\n",
       "      <td>4,560,739,811</td>\n",
       "      <td>1,912,741</td>\n",
       "    </tr>\n",
       "    <tr>\n",
       "      <th>1</th>\n",
       "      <td>Ed Sheeran - Shape of You</td>\n",
       "      <td>4,096,124,219</td>\n",
       "      <td>1,615,655</td>\n",
       "    </tr>\n",
       "    <tr>\n",
       "      <th>2</th>\n",
       "      <td>Lewis Capaldi - Someone You Loved</td>\n",
       "      <td>3,671,556,765</td>\n",
       "      <td>1,475,856</td>\n",
       "    </tr>\n",
       "    <tr>\n",
       "      <th>3</th>\n",
       "      <td>Harry Styles - As It Was</td>\n",
       "      <td>3,631,721,146</td>\n",
       "      <td>1,533,219</td>\n",
       "    </tr>\n",
       "    <tr>\n",
       "      <th>4</th>\n",
       "      <td>Post Malone - Sunflower</td>\n",
       "      <td>3,595,013,796</td>\n",
       "      <td>1,461,811</td>\n",
       "    </tr>\n",
       "  </tbody>\n",
       "</table>\n",
       "</div>"
      ],
      "text/plain": [
       "                         Artist/Song        Streams      Daily\n",
       "0       The Weeknd - Blinding Lights  4,560,739,811  1,912,741\n",
       "1          Ed Sheeran - Shape of You  4,096,124,219  1,615,655\n",
       "2  Lewis Capaldi - Someone You Loved  3,671,556,765  1,475,856\n",
       "3           Harry Styles - As It Was  3,631,721,146  1,533,219\n",
       "4            Post Malone - Sunflower  3,595,013,796  1,461,811"
      ]
     },
     "execution_count": 7,
     "metadata": {},
     "output_type": "execute_result"
    }
   ],
   "source": [
    "# View data\n",
    "raw_kword_df.head(5)"
   ]
  },
  {
   "cell_type": "code",
   "execution_count": 10,
   "metadata": {},
   "outputs": [
    {
     "name": "stdout",
     "output_type": "stream",
     "text": [
      "Duplicate count: 0\n"
     ]
    }
   ],
   "source": [
    "# Check for duplicates and null values\n",
    "duplicates = raw_kword_df.duplicated()\n",
    "print(f'Duplicate count: {duplicates.sum()}')"
   ]
  },
  {
   "cell_type": "code",
   "execution_count": 17,
   "metadata": {},
   "outputs": [
    {
     "name": "stdout",
     "output_type": "stream",
     "text": [
      "Duplicate artist/song count: 25\n"
     ]
    }
   ],
   "source": [
    "# Check for artist/song duplicates\n",
    "artistSong_duplicates = raw_kword_df['Artist/Song'].duplicated()\n",
    "print(f'Duplicate artist/song count: {artistSong_duplicates.sum()}')"
   ]
  },
  {
   "cell_type": "code",
   "execution_count": 19,
   "metadata": {},
   "outputs": [
    {
     "name": "stdout",
     "output_type": "stream",
     "text": [
      "                                     Artist/Song        Streams    Daily\n",
      "227                 The Weeknd - Save Your Tears  1,687,728,759  874,623\n",
      "414   White Noise Baby Sleep - Clean White Noise  1,361,773,739      NaN\n",
      "420                         Ed Sheeran - Shivers  1,356,315,091      NaN\n",
      "734                    Lil Nas X - Old Town Road  1,039,628,178  189,454\n",
      "767                     The Weeknd - Die For You  1,024,078,581  731,164\n",
      "802                        Dua Lipa - Levitating  1,004,917,448  322,553\n",
      "831                          Lizzo - Truth Hurts    990,690,505  161,441\n",
      "1100  Elvis Presley - Can't Help Falling in Love    846,573,905  497,676\n",
      "1301                         Sia - Cheap Thrills    769,190,813  345,191\n",
      "1303                 Olivia Rodrigo - All I Want    768,847,035  487,824\n",
      "1321                  Jack Harlow - Whats Poppin    763,671,243  119,009\n",
      "1437                          Taylor Swift - ME!    730,859,004  320,741\n",
      "1673             Coldplay - Hymn for the Weekend    664,241,826   64,490\n",
      "1781                       Dua Lipa - Love Again    642,320,839  286,822\n",
      "1816                Tove Lo - Habits (Stay High)    637,285,600  132,797\n",
      "1889                            Rema - Calm Down    625,383,773  203,029\n",
      "1895                              Lil Tjay - F.N    624,709,072      NaN\n",
      "1924                 Kina - Can We Kiss Forever?    617,681,058  179,852\n",
      "2042                      Alan Walker - Darkside    595,700,239  181,537\n",
      "2111                       Burak Yeter - Tuesday    583,153,237  128,740\n",
      "2116                        CKay - love nwantiti    582,038,804  156,025\n",
      "2143                      Saweetie - Best Friend    579,126,660  249,478\n",
      "2196                           Sech - Otro Trago    569,483,973  100,665\n",
      "2246                     Sam Feldt - Post Malone    559,507,066   95,753\n",
      "2291    Simon & Garfunkel - The Sound of Silence    549,644,238  277,428\n"
     ]
    }
   ],
   "source": [
    "# Examine duplicates\n",
    "print(raw_kword_df[artistSong_duplicates])"
   ]
  },
  {
   "cell_type": "code",
   "execution_count": 15,
   "metadata": {},
   "outputs": [
    {
     "name": "stdout",
     "output_type": "stream",
     "text": [
      "Null artists/songs: 0\n",
      "Null streams: 0\n",
      "Null daily streams: 4\n"
     ]
    }
   ],
   "source": [
    "# Check for null values\n",
    "print(f'Null artists/songs: {raw_kword_df['Artist/Song'].isna().sum()}')\n",
    "print(f'Null streams: {raw_kword_df['Streams'].isna().sum()}')\n",
    "print(f'Null daily streams: {raw_kword_df['Daily'].isna().sum()}')"
   ]
  },
  {
   "cell_type": "code",
   "execution_count": 13,
   "metadata": {},
   "outputs": [
    {
     "data": {
      "text/html": [
       "<div>\n",
       "<style scoped>\n",
       "    .dataframe tbody tr th:only-of-type {\n",
       "        vertical-align: middle;\n",
       "    }\n",
       "\n",
       "    .dataframe tbody tr th {\n",
       "        vertical-align: top;\n",
       "    }\n",
       "\n",
       "    .dataframe thead th {\n",
       "        text-align: right;\n",
       "    }\n",
       "</style>\n",
       "<table border=\"1\" class=\"dataframe\">\n",
       "  <thead>\n",
       "    <tr style=\"text-align: right;\">\n",
       "      <th></th>\n",
       "      <th>Artist/Song</th>\n",
       "      <th>Streams</th>\n",
       "      <th>Daily</th>\n",
       "    </tr>\n",
       "  </thead>\n",
       "  <tbody>\n",
       "    <tr>\n",
       "      <th>414</th>\n",
       "      <td>White Noise Baby Sleep - Clean White Noise</td>\n",
       "      <td>1,361,773,739</td>\n",
       "      <td>NaN</td>\n",
       "    </tr>\n",
       "    <tr>\n",
       "      <th>420</th>\n",
       "      <td>Ed Sheeran - Shivers</td>\n",
       "      <td>1,356,315,091</td>\n",
       "      <td>NaN</td>\n",
       "    </tr>\n",
       "    <tr>\n",
       "      <th>733</th>\n",
       "      <td>Brenda Lee - Rockin' Around The Christmas Tree</td>\n",
       "      <td>1,040,733,345</td>\n",
       "      <td>NaN</td>\n",
       "    </tr>\n",
       "    <tr>\n",
       "      <th>1895</th>\n",
       "      <td>Lil Tjay - F.N</td>\n",
       "      <td>624,709,072</td>\n",
       "      <td>NaN</td>\n",
       "    </tr>\n",
       "  </tbody>\n",
       "</table>\n",
       "</div>"
      ],
      "text/plain": [
       "                                         Artist/Song        Streams Daily\n",
       "414       White Noise Baby Sleep - Clean White Noise  1,361,773,739   NaN\n",
       "420                             Ed Sheeran - Shivers  1,356,315,091   NaN\n",
       "733   Brenda Lee - Rockin' Around The Christmas Tree  1,040,733,345   NaN\n",
       "1895                                  Lil Tjay - F.N    624,709,072   NaN"
      ]
     },
     "execution_count": 13,
     "metadata": {},
     "output_type": "execute_result"
    }
   ],
   "source": [
    "# Examine Null daily streams\n",
    "raw_kword_df[raw_kword_df['Daily'].isna()]"
   ]
  },
  {
   "cell_type": "code",
   "execution_count": null,
   "metadata": {},
   "outputs": [],
   "source": []
  }
 ],
 "metadata": {
  "kernelspec": {
   "display_name": "base",
   "language": "python",
   "name": "python3"
  },
  "language_info": {
   "codemirror_mode": {
    "name": "ipython",
    "version": 3
   },
   "file_extension": ".py",
   "mimetype": "text/x-python",
   "name": "python",
   "nbconvert_exporter": "python",
   "pygments_lexer": "ipython3",
   "version": "3.12.2"
  }
 },
 "nbformat": 4,
 "nbformat_minor": 2
}
