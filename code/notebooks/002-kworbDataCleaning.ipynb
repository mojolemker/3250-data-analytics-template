{
 "cells": [
  {
   "cell_type": "markdown",
   "metadata": {},
   "source": [
    "# Cleaning Kworb Data"
   ]
  },
  {
   "cell_type": "code",
   "execution_count": 2,
   "metadata": {},
   "outputs": [],
   "source": [
    "# Imports\n",
    "import pandas as pd"
   ]
  },
  {
   "cell_type": "code",
   "execution_count": 39,
   "metadata": {},
   "outputs": [],
   "source": [
    "# Load in kworb data\n",
    "raw_kword_df = pd.read_csv('/Users/joseflemker/Documents/GitHub/3250-data-analytics-template/data/rawstream_dataRaw.csv')"
   ]
  },
  {
   "cell_type": "code",
   "execution_count": 40,
   "metadata": {},
   "outputs": [
    {
     "data": {
      "text/html": [
       "<div>\n",
       "<style scoped>\n",
       "    .dataframe tbody tr th:only-of-type {\n",
       "        vertical-align: middle;\n",
       "    }\n",
       "\n",
       "    .dataframe tbody tr th {\n",
       "        vertical-align: top;\n",
       "    }\n",
       "\n",
       "    .dataframe thead th {\n",
       "        text-align: right;\n",
       "    }\n",
       "</style>\n",
       "<table border=\"1\" class=\"dataframe\">\n",
       "  <thead>\n",
       "    <tr style=\"text-align: right;\">\n",
       "      <th></th>\n",
       "      <th>Artist/Song</th>\n",
       "      <th>Streams</th>\n",
       "      <th>Daily</th>\n",
       "    </tr>\n",
       "  </thead>\n",
       "  <tbody>\n",
       "    <tr>\n",
       "      <th>0</th>\n",
       "      <td>The Weeknd - Blinding Lights</td>\n",
       "      <td>4,560,739,811</td>\n",
       "      <td>1,912,741</td>\n",
       "    </tr>\n",
       "    <tr>\n",
       "      <th>1</th>\n",
       "      <td>Ed Sheeran - Shape of You</td>\n",
       "      <td>4,096,124,219</td>\n",
       "      <td>1,615,655</td>\n",
       "    </tr>\n",
       "    <tr>\n",
       "      <th>2</th>\n",
       "      <td>Lewis Capaldi - Someone You Loved</td>\n",
       "      <td>3,671,556,765</td>\n",
       "      <td>1,475,856</td>\n",
       "    </tr>\n",
       "    <tr>\n",
       "      <th>3</th>\n",
       "      <td>Harry Styles - As It Was</td>\n",
       "      <td>3,631,721,146</td>\n",
       "      <td>1,533,219</td>\n",
       "    </tr>\n",
       "    <tr>\n",
       "      <th>4</th>\n",
       "      <td>Post Malone - Sunflower</td>\n",
       "      <td>3,595,013,796</td>\n",
       "      <td>1,461,811</td>\n",
       "    </tr>\n",
       "  </tbody>\n",
       "</table>\n",
       "</div>"
      ],
      "text/plain": [
       "                         Artist/Song        Streams      Daily\n",
       "0       The Weeknd - Blinding Lights  4,560,739,811  1,912,741\n",
       "1          Ed Sheeran - Shape of You  4,096,124,219  1,615,655\n",
       "2  Lewis Capaldi - Someone You Loved  3,671,556,765  1,475,856\n",
       "3           Harry Styles - As It Was  3,631,721,146  1,533,219\n",
       "4            Post Malone - Sunflower  3,595,013,796  1,461,811"
      ]
     },
     "execution_count": 40,
     "metadata": {},
     "output_type": "execute_result"
    }
   ],
   "source": [
    "# View data\n",
    "raw_kword_df.head(5)"
   ]
  },
  {
   "cell_type": "code",
   "execution_count": 41,
   "metadata": {},
   "outputs": [
    {
     "name": "stdout",
     "output_type": "stream",
     "text": [
      "Artist/Song    object\n",
      "Streams        object\n",
      "Daily          object\n",
      "dtype: object\n"
     ]
    }
   ],
   "source": [
    "# Check Data types\n",
    "print(raw_kword_df.dtypes)"
   ]
  },
  {
   "cell_type": "code",
   "execution_count": 42,
   "metadata": {},
   "outputs": [],
   "source": [
    "# Change Streams and Daily to int\n",
    "raw_kword_df['Streams'] = raw_kword_df['Streams'].str.replace(',', '')\n",
    "raw_kword_df['Daily'] = raw_kword_df['Daily'].str.replace(',', '')\n",
    "raw_kword_df['Streams'] = raw_kword_df['Streams'].astype(float)\n",
    "raw_kword_df['Daily'] = raw_kword_df['Daily'].astype(float)"
   ]
  },
  {
   "cell_type": "code",
   "execution_count": 43,
   "metadata": {},
   "outputs": [
    {
     "name": "stdout",
     "output_type": "stream",
     "text": [
      "Duplicate count: 0\n"
     ]
    }
   ],
   "source": [
    "# Check for duplicates and null values\n",
    "duplicates = raw_kword_df.duplicated()\n",
    "print(f'Duplicate count: {duplicates.sum()}')"
   ]
  },
  {
   "cell_type": "code",
   "execution_count": 44,
   "metadata": {},
   "outputs": [
    {
     "name": "stdout",
     "output_type": "stream",
     "text": [
      "Duplicate artist/song count: 50\n"
     ]
    }
   ],
   "source": [
    "# Check for artist/song duplicates\n",
    "artistSong_duplicates = raw_kword_df['Artist/Song'].duplicated(keep=False)\n",
    "print(f'Duplicate artist/song count: {artistSong_duplicates.sum()}')"
   ]
  },
  {
   "cell_type": "code",
   "execution_count": 45,
   "metadata": {},
   "outputs": [
    {
     "name": "stdout",
     "output_type": "stream",
     "text": [
      "                                     Artist/Song       Streams      Daily\n",
      "42                      The Weeknd - Die For You  2.512822e+09  1639108.0\n",
      "80                         Dua Lipa - Levitating  2.190634e+09   855918.0\n",
      "86                  The Weeknd - Save Your Tears  2.164949e+09  1105282.0\n",
      "166                          Sia - Cheap Thrills  1.845318e+09   647657.0\n",
      "222                         Ed Sheeran - Shivers  1.691417e+09  1017947.0\n",
      "227                 The Weeknd - Save Your Tears  1.687729e+09   874623.0\n",
      "250   White Noise Baby Sleep - Clean White Noise  1.620154e+09   308720.0\n",
      "281                    Lil Nas X - Old Town Road  1.559879e+09   199839.0\n",
      "295              Coldplay - Hymn for the Weekend  1.540262e+09   972993.0\n",
      "308                             Rema - Calm Down  1.525813e+09   757266.0\n",
      "414   White Noise Baby Sleep - Clean White Noise  1.361774e+09        NaN\n",
      "420                         Ed Sheeran - Shivers  1.356315e+09        NaN\n",
      "734                    Lil Nas X - Old Town Road  1.039628e+09   189454.0\n",
      "767                     The Weeknd - Die For You  1.024079e+09   731164.0\n",
      "788                          Lizzo - Truth Hurts  1.012800e+09   130483.0\n",
      "802                        Dua Lipa - Levitating  1.004917e+09   322553.0\n",
      "823                 Tove Lo - Habits (Stay High)  9.932491e+08   505146.0\n",
      "829   Elvis Presley - Can't Help Falling in Love  9.909651e+08   694683.0\n",
      "831                          Lizzo - Truth Hurts  9.906905e+08   161441.0\n",
      "996                           Taylor Swift - ME!  8.951584e+08   204354.0\n",
      "1081                  Jack Harlow - Whats Poppin  8.525410e+08   226001.0\n",
      "1083                 Olivia Rodrigo - All I Want  8.523292e+08   558773.0\n",
      "1100  Elvis Presley - Can't Help Falling in Love  8.465739e+08   497676.0\n",
      "1301                         Sia - Cheap Thrills  7.691908e+08   345191.0\n",
      "1303                 Olivia Rodrigo - All I Want  7.688470e+08   487824.0\n",
      "1304                              Lil Tjay - F.N  7.685200e+08   259796.0\n",
      "1321                  Jack Harlow - Whats Poppin  7.636712e+08   119009.0\n",
      "1437                          Taylor Swift - ME!  7.308590e+08   320741.0\n",
      "1493                       Dua Lipa - Love Again  7.102445e+08   316559.0\n",
      "1507                           Sech - Otro Trago  7.072379e+08   100540.0\n",
      "1673             Coldplay - Hymn for the Weekend  6.642418e+08    64490.0\n",
      "1703                 Kina - Can We Kiss Forever?  6.586370e+08   159507.0\n",
      "1735    Simon & Garfunkel - The Sound of Silence  6.529833e+08   465086.0\n",
      "1781                       Dua Lipa - Love Again  6.423208e+08   286822.0\n",
      "1816                Tove Lo - Habits (Stay High)  6.372856e+08   132797.0\n",
      "1880                      Alan Walker - Darkside  6.272230e+08   194634.0\n",
      "1889                            Rema - Calm Down  6.253838e+08   203029.0\n",
      "1895                              Lil Tjay - F.N  6.247091e+08        NaN\n",
      "1911                        CKay - love nwantiti  6.202673e+08   157022.0\n",
      "1924                 Kina - Can We Kiss Forever?  6.176811e+08   179852.0\n",
      "1931                       Burak Yeter - Tuesday  6.158124e+08   145121.0\n",
      "1969                      Saweetie - Best Friend  6.094055e+08   272143.0\n",
      "2035                     Sam Feldt - Post Malone  5.974296e+08    74676.0\n",
      "2042                      Alan Walker - Darkside  5.957002e+08   181537.0\n",
      "2111                       Burak Yeter - Tuesday  5.831532e+08   128740.0\n",
      "2116                        CKay - love nwantiti  5.820388e+08   156025.0\n",
      "2143                      Saweetie - Best Friend  5.791267e+08   249478.0\n",
      "2196                           Sech - Otro Trago  5.694840e+08   100665.0\n",
      "2246                     Sam Feldt - Post Malone  5.595071e+08    95753.0\n",
      "2291    Simon & Garfunkel - The Sound of Silence  5.496442e+08   277428.0\n"
     ]
    }
   ],
   "source": [
    "# Examine duplicates\n",
    "print(raw_kword_df[artistSong_duplicates])"
   ]
  },
  {
   "cell_type": "code",
   "execution_count": 46,
   "metadata": {},
   "outputs": [
    {
     "name": "stdout",
     "output_type": "stream",
     "text": [
      "Null artists/songs: 0\n",
      "Null streams: 0\n",
      "Null daily streams: 4\n"
     ]
    }
   ],
   "source": [
    "# Check for null values\n",
    "print(f'Null artists/songs: {raw_kword_df['Artist/Song'].isna().sum()}')\n",
    "print(f'Null streams: {raw_kword_df['Streams'].isna().sum()}')\n",
    "print(f'Null daily streams: {raw_kword_df['Daily'].isna().sum()}')"
   ]
  },
  {
   "cell_type": "code",
   "execution_count": 47,
   "metadata": {},
   "outputs": [
    {
     "data": {
      "text/html": [
       "<div>\n",
       "<style scoped>\n",
       "    .dataframe tbody tr th:only-of-type {\n",
       "        vertical-align: middle;\n",
       "    }\n",
       "\n",
       "    .dataframe tbody tr th {\n",
       "        vertical-align: top;\n",
       "    }\n",
       "\n",
       "    .dataframe thead th {\n",
       "        text-align: right;\n",
       "    }\n",
       "</style>\n",
       "<table border=\"1\" class=\"dataframe\">\n",
       "  <thead>\n",
       "    <tr style=\"text-align: right;\">\n",
       "      <th></th>\n",
       "      <th>Artist/Song</th>\n",
       "      <th>Streams</th>\n",
       "      <th>Daily</th>\n",
       "    </tr>\n",
       "  </thead>\n",
       "  <tbody>\n",
       "    <tr>\n",
       "      <th>414</th>\n",
       "      <td>White Noise Baby Sleep - Clean White Noise</td>\n",
       "      <td>1.361774e+09</td>\n",
       "      <td>NaN</td>\n",
       "    </tr>\n",
       "    <tr>\n",
       "      <th>420</th>\n",
       "      <td>Ed Sheeran - Shivers</td>\n",
       "      <td>1.356315e+09</td>\n",
       "      <td>NaN</td>\n",
       "    </tr>\n",
       "    <tr>\n",
       "      <th>733</th>\n",
       "      <td>Brenda Lee - Rockin' Around The Christmas Tree</td>\n",
       "      <td>1.040733e+09</td>\n",
       "      <td>NaN</td>\n",
       "    </tr>\n",
       "    <tr>\n",
       "      <th>1895</th>\n",
       "      <td>Lil Tjay - F.N</td>\n",
       "      <td>6.247091e+08</td>\n",
       "      <td>NaN</td>\n",
       "    </tr>\n",
       "  </tbody>\n",
       "</table>\n",
       "</div>"
      ],
      "text/plain": [
       "                                         Artist/Song       Streams  Daily\n",
       "414       White Noise Baby Sleep - Clean White Noise  1.361774e+09    NaN\n",
       "420                             Ed Sheeran - Shivers  1.356315e+09    NaN\n",
       "733   Brenda Lee - Rockin' Around The Christmas Tree  1.040733e+09    NaN\n",
       "1895                                  Lil Tjay - F.N  6.247091e+08    NaN"
      ]
     },
     "execution_count": 47,
     "metadata": {},
     "output_type": "execute_result"
    }
   ],
   "source": [
    "# Examine Null daily streams\n",
    "raw_kword_df[raw_kword_df['Daily'].isna()]"
   ]
  },
  {
   "cell_type": "code",
   "execution_count": 48,
   "metadata": {},
   "outputs": [
    {
     "data": {
      "text/plain": [
       "(                                    Artist/Song       Streams     Daily\n",
       " 250  White Noise Baby Sleep - Clean White Noise  1.620154e+09  308720.0\n",
       " 414  White Noise Baby Sleep - Clean White Noise  1.361774e+09       NaN,\n",
       "               Artist/Song       Streams      Daily\n",
       " 222  Ed Sheeran - Shivers  1.691417e+09  1017947.0\n",
       " 420  Ed Sheeran - Shivers  1.356315e+09        NaN,\n",
       "                                         Artist/Song       Streams  Daily\n",
       " 733  Brenda Lee - Rockin' Around The Christmas Tree  1.040733e+09    NaN,\n",
       "          Artist/Song      Streams     Daily\n",
       " 1304  Lil Tjay - F.N  768520043.0  259796.0\n",
       " 1895  Lil Tjay - F.N  624709072.0       NaN)"
      ]
     },
     "execution_count": 48,
     "metadata": {},
     "output_type": "execute_result"
    }
   ],
   "source": [
    "# Check if null values are duplicates\n",
    "white_noise = raw_kword_df[raw_kword_df['Artist/Song'] == \"White Noise Baby Sleep - Clean White Noise\"]\n",
    "\n",
    "shivers = raw_kword_df[raw_kword_df['Artist/Song'] == \"Ed Sheeran - Shivers\"]\n",
    "\n",
    "christmas = raw_kword_df[raw_kword_df['Artist/Song'] == \"Brenda Lee - Rockin' Around The Christmas Tree\"]\n",
    "\n",
    "lilTjay = raw_kword_df[raw_kword_df['Artist/Song'] == \"Lil Tjay - F.N\"]\n",
    "white_noise, shivers, christmas, lilTjay"
   ]
  },
  {
   "cell_type": "markdown",
   "metadata": {},
   "source": [
    "Because the second duplicate is null, if there is one, we will drop this one. We will also give all other duplicates the benifit of the doubt and drop the second version listed and keep the first. This is done because that must be a more unpopular version and we would want to capture the best performance."
   ]
  },
  {
   "cell_type": "code",
   "execution_count": 79,
   "metadata": {},
   "outputs": [
    {
     "name": "stdout",
     "output_type": "stream",
     "text": [
      "New duplicates: 0\n"
     ]
    }
   ],
   "source": [
    "# Drop duplicates\n",
    "kworb_noDupe_df = raw_kword_df.drop_duplicates(keep='first')\n",
    "\n",
    "duplicates2 = kworb_noDupe_df['Artist/Song'].duplicated()\n",
    "\n",
    "print(f'New duplicates: {duplicates.sum()}')\n"
   ]
  },
  {
   "cell_type": "markdown",
   "metadata": {},
   "source": [
    "For Rocking around the Christmas tree song we are going to impute that value based on the number of total streams"
   ]
  },
  {
   "cell_type": "code",
   "execution_count": 80,
   "metadata": {},
   "outputs": [],
   "source": [
    "# We need to find the mean daily streams for music with 1,000,000 to 1,100,000 million streams\n",
    "ranged_streams = kworb_noDupe_df[(kworb_noDupe_df['Streams'] > 1000000000) & (kworb_noDupe_df['Streams'] < 1100000000)]"
   ]
  },
  {
   "cell_type": "code",
   "execution_count": 81,
   "metadata": {},
   "outputs": [],
   "source": [
    "# Calculate mean for daily\n",
    "mean_daily_ranged = ranged_streams['Daily'].mean()"
   ]
  },
  {
   "cell_type": "code",
   "execution_count": 82,
   "metadata": {},
   "outputs": [],
   "source": [
    "# Impute value\n",
    "kworb_noDupe_df.loc[733, 'Daily'] = mean_daily_ranged.round()"
   ]
  },
  {
   "cell_type": "code",
   "execution_count": 83,
   "metadata": {},
   "outputs": [
    {
     "data": {
      "text/plain": [
       "Artist/Song    Brenda Lee - Rockin' Around The Christmas Tree\n",
       "Streams                                          1040733345.0\n",
       "Daily                                                621432.0\n",
       "Name: 733, dtype: object"
      ]
     },
     "execution_count": 83,
     "metadata": {},
     "output_type": "execute_result"
    }
   ],
   "source": [
    "# Examine new value\n",
    "kworb_noDupe_df.loc[733]"
   ]
  },
  {
   "cell_type": "markdown",
   "metadata": {},
   "source": [
    "# Now we split artist and song"
   ]
  },
  {
   "cell_type": "code",
   "execution_count": 84,
   "metadata": {},
   "outputs": [],
   "source": [
    "# Split artist and song and make new column\n",
    "kworb_noDupe_df['Artist/Song'] = kworb_noDupe_df['Artist/Song'].str.split(' - ')\n",
    "kworb_noDupe_df['Song'] = kworb_noDupe_df['Artist/Song']"
   ]
  },
  {
   "cell_type": "code",
   "execution_count": 85,
   "metadata": {},
   "outputs": [],
   "source": [
    "# Select the artist for the first column and Song for the second column\n",
    "kworb_noDupe_df['Artist/Song'] = kworb_noDupe_df['Artist/Song'].str[0]\n",
    "kworb_noDupe_df['Song'] = kworb_noDupe_df['Song'].str[1]"
   ]
  },
  {
   "cell_type": "code",
   "execution_count": 86,
   "metadata": {},
   "outputs": [
    {
     "name": "stdout",
     "output_type": "stream",
     "text": [
      "         Artist/Song       Streams      Daily               Song\n",
      "0         The Weeknd  4.560740e+09  1912741.0    Blinding Lights\n",
      "1         Ed Sheeran  4.096124e+09  1615655.0       Shape of You\n",
      "2      Lewis Capaldi  3.671557e+09  1475856.0  Someone You Loved\n",
      "3       Harry Styles  3.631721e+09  1533219.0          As It Was\n",
      "4        Post Malone  3.595014e+09  1461811.0          Sunflower\n",
      "5         The Weeknd  3.580695e+09  1852199.0            Starboy\n",
      "6              Drake  3.415975e+09  1335061.0          One Dance\n",
      "7  The Neighbourhood  3.347043e+09  2882322.0    Sweater Weather\n",
      "8      The Kid LAROI  3.345711e+09  1582934.0               STAY\n",
      "9    Imagine Dragons  3.213200e+09  1338922.0           Believer\n"
     ]
    }
   ],
   "source": [
    "# Examine new Data frame\n",
    "print(kworb_noDupe_df.head(10))"
   ]
  },
  {
   "cell_type": "code",
   "execution_count": 90,
   "metadata": {},
   "outputs": [],
   "source": [
    "# Rename and reorder columns\n",
    "kworb_noDupe_df = kworb_noDupe_df.rename(columns={\n",
    "    \"Artist/Song\": \"Artist\",\n",
    "    \"Streams\": \"Total Streams\",\n",
    "    \"Daily\": \"Daily Streams\"\n",
    "})\n",
    "# Reorder\n",
    "kworb_noDupe_df = kworb_noDupe_df[['Song', 'Artist', 'Total Streams', 'Daily Streams']]"
   ]
  },
  {
   "cell_type": "code",
   "execution_count": 91,
   "metadata": {},
   "outputs": [
    {
     "data": {
      "text/html": [
       "<div>\n",
       "<style scoped>\n",
       "    .dataframe tbody tr th:only-of-type {\n",
       "        vertical-align: middle;\n",
       "    }\n",
       "\n",
       "    .dataframe tbody tr th {\n",
       "        vertical-align: top;\n",
       "    }\n",
       "\n",
       "    .dataframe thead th {\n",
       "        text-align: right;\n",
       "    }\n",
       "</style>\n",
       "<table border=\"1\" class=\"dataframe\">\n",
       "  <thead>\n",
       "    <tr style=\"text-align: right;\">\n",
       "      <th></th>\n",
       "      <th>Song</th>\n",
       "      <th>Artist</th>\n",
       "      <th>Total Streams</th>\n",
       "      <th>Daily Streams</th>\n",
       "    </tr>\n",
       "  </thead>\n",
       "  <tbody>\n",
       "    <tr>\n",
       "      <th>0</th>\n",
       "      <td>Blinding Lights</td>\n",
       "      <td>The Weeknd</td>\n",
       "      <td>4.560740e+09</td>\n",
       "      <td>1912741.0</td>\n",
       "    </tr>\n",
       "    <tr>\n",
       "      <th>1</th>\n",
       "      <td>Shape of You</td>\n",
       "      <td>Ed Sheeran</td>\n",
       "      <td>4.096124e+09</td>\n",
       "      <td>1615655.0</td>\n",
       "    </tr>\n",
       "    <tr>\n",
       "      <th>2</th>\n",
       "      <td>Someone You Loved</td>\n",
       "      <td>Lewis Capaldi</td>\n",
       "      <td>3.671557e+09</td>\n",
       "      <td>1475856.0</td>\n",
       "    </tr>\n",
       "    <tr>\n",
       "      <th>3</th>\n",
       "      <td>As It Was</td>\n",
       "      <td>Harry Styles</td>\n",
       "      <td>3.631721e+09</td>\n",
       "      <td>1533219.0</td>\n",
       "    </tr>\n",
       "    <tr>\n",
       "      <th>4</th>\n",
       "      <td>Sunflower</td>\n",
       "      <td>Post Malone</td>\n",
       "      <td>3.595014e+09</td>\n",
       "      <td>1461811.0</td>\n",
       "    </tr>\n",
       "    <tr>\n",
       "      <th>...</th>\n",
       "      <td>...</td>\n",
       "      <td>...</td>\n",
       "      <td>...</td>\n",
       "      <td>...</td>\n",
       "    </tr>\n",
       "    <tr>\n",
       "      <th>2495</th>\n",
       "      <td>Started From the Bottom</td>\n",
       "      <td>Drake</td>\n",
       "      <td>5.203854e+08</td>\n",
       "      <td>113274.0</td>\n",
       "    </tr>\n",
       "    <tr>\n",
       "      <th>2496</th>\n",
       "      <td>Shirt</td>\n",
       "      <td>SZA</td>\n",
       "      <td>5.202964e+08</td>\n",
       "      <td>382773.0</td>\n",
       "    </tr>\n",
       "    <tr>\n",
       "      <th>2497</th>\n",
       "      <td>Love$ick</td>\n",
       "      <td>Mura Masa</td>\n",
       "      <td>5.201422e+08</td>\n",
       "      <td>143273.0</td>\n",
       "    </tr>\n",
       "    <tr>\n",
       "      <th>2498</th>\n",
       "      <td>Forever After All</td>\n",
       "      <td>Luke Combs</td>\n",
       "      <td>5.196419e+08</td>\n",
       "      <td>368956.0</td>\n",
       "    </tr>\n",
       "    <tr>\n",
       "      <th>2499</th>\n",
       "      <td>Ferxxo 100</td>\n",
       "      <td>Feid</td>\n",
       "      <td>5.194145e+08</td>\n",
       "      <td>469882.0</td>\n",
       "    </tr>\n",
       "  </tbody>\n",
       "</table>\n",
       "<p>2500 rows × 4 columns</p>\n",
       "</div>"
      ],
      "text/plain": [
       "                         Song         Artist  Total Streams  Daily Streams\n",
       "0             Blinding Lights     The Weeknd   4.560740e+09      1912741.0\n",
       "1                Shape of You     Ed Sheeran   4.096124e+09      1615655.0\n",
       "2           Someone You Loved  Lewis Capaldi   3.671557e+09      1475856.0\n",
       "3                   As It Was   Harry Styles   3.631721e+09      1533219.0\n",
       "4                   Sunflower    Post Malone   3.595014e+09      1461811.0\n",
       "...                       ...            ...            ...            ...\n",
       "2495  Started From the Bottom          Drake   5.203854e+08       113274.0\n",
       "2496                    Shirt            SZA   5.202964e+08       382773.0\n",
       "2497                 Love$ick      Mura Masa   5.201422e+08       143273.0\n",
       "2498        Forever After All     Luke Combs   5.196419e+08       368956.0\n",
       "2499               Ferxxo 100           Feid   5.194145e+08       469882.0\n",
       "\n",
       "[2500 rows x 4 columns]"
      ]
     },
     "execution_count": 91,
     "metadata": {},
     "output_type": "execute_result"
    }
   ],
   "source": [
    "kworb_noDupe_df"
   ]
  },
  {
   "cell_type": "code",
   "execution_count": null,
   "metadata": {},
   "outputs": [],
   "source": []
  }
 ],
 "metadata": {
  "kernelspec": {
   "display_name": "base",
   "language": "python",
   "name": "python3"
  },
  "language_info": {
   "codemirror_mode": {
    "name": "ipython",
    "version": 3
   },
   "file_extension": ".py",
   "mimetype": "text/x-python",
   "name": "python",
   "nbconvert_exporter": "python",
   "pygments_lexer": "ipython3",
   "version": "3.12.2"
  }
 },
 "nbformat": 4,
 "nbformat_minor": 2
}
