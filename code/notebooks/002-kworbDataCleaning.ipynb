{
 "cells": [
  {
   "cell_type": "markdown",
   "metadata": {},
   "source": [
    "# Cleaning Kworb Data"
   ]
  },
  {
   "cell_type": "code",
   "execution_count": 2,
   "metadata": {},
   "outputs": [],
   "source": [
    "# Imports\n",
    "import pandas as pd"
   ]
  },
  {
   "cell_type": "code",
   "execution_count": 39,
   "metadata": {},
   "outputs": [],
   "source": [
    "# Load in kworb data\n",
    "raw_kword_df = pd.read_csv('/Users/joseflemker/Documents/GitHub/3250-data-analytics-template/data/rawstream_dataRaw.csv')"
   ]
  },
  {
   "cell_type": "code",
   "execution_count": 40,
   "metadata": {},
   "outputs": [
    {
     "data": {
      "text/html": [
       "<div>\n",
       "<style scoped>\n",
       "    .dataframe tbody tr th:only-of-type {\n",
       "        vertical-align: middle;\n",
       "    }\n",
       "\n",
       "    .dataframe tbody tr th {\n",
       "        vertical-align: top;\n",
       "    }\n",
       "\n",
       "    .dataframe thead th {\n",
       "        text-align: right;\n",
       "    }\n",
       "</style>\n",
       "<table border=\"1\" class=\"dataframe\">\n",
       "  <thead>\n",
       "    <tr style=\"text-align: right;\">\n",
       "      <th></th>\n",
       "      <th>Artist/Song</th>\n",
       "      <th>Streams</th>\n",
       "      <th>Daily</th>\n",
       "    </tr>\n",
       "  </thead>\n",
       "  <tbody>\n",
       "    <tr>\n",
       "      <th>0</th>\n",
       "      <td>The Weeknd - Blinding Lights</td>\n",
       "      <td>4,560,739,811</td>\n",
       "      <td>1,912,741</td>\n",
       "    </tr>\n",
       "    <tr>\n",
       "      <th>1</th>\n",
       "      <td>Ed Sheeran - Shape of You</td>\n",
       "      <td>4,096,124,219</td>\n",
       "      <td>1,615,655</td>\n",
       "    </tr>\n",
       "    <tr>\n",
       "      <th>2</th>\n",
       "      <td>Lewis Capaldi - Someone You Loved</td>\n",
       "      <td>3,671,556,765</td>\n",
       "      <td>1,475,856</td>\n",
       "    </tr>\n",
       "    <tr>\n",
       "      <th>3</th>\n",
       "      <td>Harry Styles - As It Was</td>\n",
       "      <td>3,631,721,146</td>\n",
       "      <td>1,533,219</td>\n",
       "    </tr>\n",
       "    <tr>\n",
       "      <th>4</th>\n",
       "      <td>Post Malone - Sunflower</td>\n",
       "      <td>3,595,013,796</td>\n",
       "      <td>1,461,811</td>\n",
       "    </tr>\n",
       "  </tbody>\n",
       "</table>\n",
       "</div>"
      ],
      "text/plain": [
       "                         Artist/Song        Streams      Daily\n",
       "0       The Weeknd - Blinding Lights  4,560,739,811  1,912,741\n",
       "1          Ed Sheeran - Shape of You  4,096,124,219  1,615,655\n",
       "2  Lewis Capaldi - Someone You Loved  3,671,556,765  1,475,856\n",
       "3           Harry Styles - As It Was  3,631,721,146  1,533,219\n",
       "4            Post Malone - Sunflower  3,595,013,796  1,461,811"
      ]
     },
     "execution_count": 40,
     "metadata": {},
     "output_type": "execute_result"
    }
   ],
   "source": [
    "# View data\n",
    "raw_kword_df.head(5)"
   ]
  },
  {
   "cell_type": "code",
   "execution_count": 41,
   "metadata": {},
   "outputs": [
    {
     "name": "stdout",
     "output_type": "stream",
     "text": [
      "Artist/Song    object\n",
      "Streams        object\n",
      "Daily          object\n",
      "dtype: object\n"
     ]
    }
   ],
   "source": [
    "# Check Data types\n",
    "print(raw_kword_df.dtypes)"
   ]
  },
  {
   "cell_type": "code",
   "execution_count": 42,
   "metadata": {},
   "outputs": [],
   "source": [
    "# Change Streams and Daily to int\n",
    "raw_kword_df['Streams'] = raw_kword_df['Streams'].str.replace(',', '')\n",
    "raw_kword_df['Daily'] = raw_kword_df['Daily'].str.replace(',', '')\n",
    "raw_kword_df['Streams'] = raw_kword_df['Streams'].astype(float)\n",
    "raw_kword_df['Daily'] = raw_kword_df['Daily'].astype(float)"
   ]
  },
  {
   "cell_type": "code",
   "execution_count": 43,
   "metadata": {},
   "outputs": [
    {
     "name": "stdout",
     "output_type": "stream",
     "text": [
      "Duplicate count: 0\n"
     ]
    }
   ],
   "source": [
    "# Check for duplicates and null values\n",
    "duplicates = raw_kword_df.duplicated()\n",
    "print(f'Duplicate count: {duplicates.sum()}')"
   ]
  },
  {
   "cell_type": "code",
   "execution_count": 44,
   "metadata": {},
   "outputs": [
    {
     "name": "stdout",
     "output_type": "stream",
     "text": [
      "Duplicate artist/song count: 50\n"
     ]
    }
   ],
   "source": [
    "# Check for artist/song duplicates\n",
    "artistSong_duplicates = raw_kword_df['Artist/Song'].duplicated(keep=False)\n",
    "print(f'Duplicate artist/song count: {artistSong_duplicates.sum()}')"
   ]
  },
  {
   "cell_type": "code",
   "execution_count": 45,
   "metadata": {},
   "outputs": [
    {
     "name": "stdout",
     "output_type": "stream",
     "text": [
      "                                     Artist/Song       Streams      Daily\n",
      "42                      The Weeknd - Die For You  2.512822e+09  1639108.0\n",
      "80                         Dua Lipa - Levitating  2.190634e+09   855918.0\n",
      "86                  The Weeknd - Save Your Tears  2.164949e+09  1105282.0\n",
      "166                          Sia - Cheap Thrills  1.845318e+09   647657.0\n",
      "222                         Ed Sheeran - Shivers  1.691417e+09  1017947.0\n",
      "227                 The Weeknd - Save Your Tears  1.687729e+09   874623.0\n",
      "250   White Noise Baby Sleep - Clean White Noise  1.620154e+09   308720.0\n",
      "281                    Lil Nas X - Old Town Road  1.559879e+09   199839.0\n",
      "295              Coldplay - Hymn for the Weekend  1.540262e+09   972993.0\n",
      "308                             Rema - Calm Down  1.525813e+09   757266.0\n",
      "414   White Noise Baby Sleep - Clean White Noise  1.361774e+09        NaN\n",
      "420                         Ed Sheeran - Shivers  1.356315e+09        NaN\n",
      "734                    Lil Nas X - Old Town Road  1.039628e+09   189454.0\n",
      "767                     The Weeknd - Die For You  1.024079e+09   731164.0\n",
      "788                          Lizzo - Truth Hurts  1.012800e+09   130483.0\n",
      "802                        Dua Lipa - Levitating  1.004917e+09   322553.0\n",
      "823                 Tove Lo - Habits (Stay High)  9.932491e+08   505146.0\n",
      "829   Elvis Presley - Can't Help Falling in Love  9.909651e+08   694683.0\n",
      "831                          Lizzo - Truth Hurts  9.906905e+08   161441.0\n",
      "996                           Taylor Swift - ME!  8.951584e+08   204354.0\n",
      "1081                  Jack Harlow - Whats Poppin  8.525410e+08   226001.0\n",
      "1083                 Olivia Rodrigo - All I Want  8.523292e+08   558773.0\n",
      "1100  Elvis Presley - Can't Help Falling in Love  8.465739e+08   497676.0\n",
      "1301                         Sia - Cheap Thrills  7.691908e+08   345191.0\n",
      "1303                 Olivia Rodrigo - All I Want  7.688470e+08   487824.0\n",
      "1304                              Lil Tjay - F.N  7.685200e+08   259796.0\n",
      "1321                  Jack Harlow - Whats Poppin  7.636712e+08   119009.0\n",
      "1437                          Taylor Swift - ME!  7.308590e+08   320741.0\n",
      "1493                       Dua Lipa - Love Again  7.102445e+08   316559.0\n",
      "1507                           Sech - Otro Trago  7.072379e+08   100540.0\n",
      "1673             Coldplay - Hymn for the Weekend  6.642418e+08    64490.0\n",
      "1703                 Kina - Can We Kiss Forever?  6.586370e+08   159507.0\n",
      "1735    Simon & Garfunkel - The Sound of Silence  6.529833e+08   465086.0\n",
      "1781                       Dua Lipa - Love Again  6.423208e+08   286822.0\n",
      "1816                Tove Lo - Habits (Stay High)  6.372856e+08   132797.0\n",
      "1880                      Alan Walker - Darkside  6.272230e+08   194634.0\n",
      "1889                            Rema - Calm Down  6.253838e+08   203029.0\n",
      "1895                              Lil Tjay - F.N  6.247091e+08        NaN\n",
      "1911                        CKay - love nwantiti  6.202673e+08   157022.0\n",
      "1924                 Kina - Can We Kiss Forever?  6.176811e+08   179852.0\n",
      "1931                       Burak Yeter - Tuesday  6.158124e+08   145121.0\n",
      "1969                      Saweetie - Best Friend  6.094055e+08   272143.0\n",
      "2035                     Sam Feldt - Post Malone  5.974296e+08    74676.0\n",
      "2042                      Alan Walker - Darkside  5.957002e+08   181537.0\n",
      "2111                       Burak Yeter - Tuesday  5.831532e+08   128740.0\n",
      "2116                        CKay - love nwantiti  5.820388e+08   156025.0\n",
      "2143                      Saweetie - Best Friend  5.791267e+08   249478.0\n",
      "2196                           Sech - Otro Trago  5.694840e+08   100665.0\n",
      "2246                     Sam Feldt - Post Malone  5.595071e+08    95753.0\n",
      "2291    Simon & Garfunkel - The Sound of Silence  5.496442e+08   277428.0\n"
     ]
    }
   ],
   "source": [
    "# Examine duplicates\n",
    "print(raw_kword_df[artistSong_duplicates])"
   ]
  },
  {
   "cell_type": "code",
   "execution_count": 46,
   "metadata": {},
   "outputs": [
    {
     "name": "stdout",
     "output_type": "stream",
     "text": [
      "Null artists/songs: 0\n",
      "Null streams: 0\n",
      "Null daily streams: 4\n"
     ]
    }
   ],
   "source": [
    "# Check for null values\n",
    "print(f'Null artists/songs: {raw_kword_df['Artist/Song'].isna().sum()}')\n",
    "print(f'Null streams: {raw_kword_df['Streams'].isna().sum()}')\n",
    "print(f'Null daily streams: {raw_kword_df['Daily'].isna().sum()}')"
   ]
  },
  {
   "cell_type": "code",
   "execution_count": 47,
   "metadata": {},
   "outputs": [
    {
     "data": {
      "text/html": [
       "<div>\n",
       "<style scoped>\n",
       "    .dataframe tbody tr th:only-of-type {\n",
       "        vertical-align: middle;\n",
       "    }\n",
       "\n",
       "    .dataframe tbody tr th {\n",
       "        vertical-align: top;\n",
       "    }\n",
       "\n",
       "    .dataframe thead th {\n",
       "        text-align: right;\n",
       "    }\n",
       "</style>\n",
       "<table border=\"1\" class=\"dataframe\">\n",
       "  <thead>\n",
       "    <tr style=\"text-align: right;\">\n",
       "      <th></th>\n",
       "      <th>Artist/Song</th>\n",
       "      <th>Streams</th>\n",
       "      <th>Daily</th>\n",
       "    </tr>\n",
       "  </thead>\n",
       "  <tbody>\n",
       "    <tr>\n",
       "      <th>414</th>\n",
       "      <td>White Noise Baby Sleep - Clean White Noise</td>\n",
       "      <td>1.361774e+09</td>\n",
       "      <td>NaN</td>\n",
       "    </tr>\n",
       "    <tr>\n",
       "      <th>420</th>\n",
       "      <td>Ed Sheeran - Shivers</td>\n",
       "      <td>1.356315e+09</td>\n",
       "      <td>NaN</td>\n",
       "    </tr>\n",
       "    <tr>\n",
       "      <th>733</th>\n",
       "      <td>Brenda Lee - Rockin' Around The Christmas Tree</td>\n",
       "      <td>1.040733e+09</td>\n",
       "      <td>NaN</td>\n",
       "    </tr>\n",
       "    <tr>\n",
       "      <th>1895</th>\n",
       "      <td>Lil Tjay - F.N</td>\n",
       "      <td>6.247091e+08</td>\n",
       "      <td>NaN</td>\n",
       "    </tr>\n",
       "  </tbody>\n",
       "</table>\n",
       "</div>"
      ],
      "text/plain": [
       "                                         Artist/Song       Streams  Daily\n",
       "414       White Noise Baby Sleep - Clean White Noise  1.361774e+09    NaN\n",
       "420                             Ed Sheeran - Shivers  1.356315e+09    NaN\n",
       "733   Brenda Lee - Rockin' Around The Christmas Tree  1.040733e+09    NaN\n",
       "1895                                  Lil Tjay - F.N  6.247091e+08    NaN"
      ]
     },
     "execution_count": 47,
     "metadata": {},
     "output_type": "execute_result"
    }
   ],
   "source": [
    "# Examine Null daily streams\n",
    "raw_kword_df[raw_kword_df['Daily'].isna()]"
   ]
  },
  {
   "cell_type": "code",
   "execution_count": 48,
   "metadata": {},
   "outputs": [
    {
     "data": {
      "text/plain": [
       "(                                    Artist/Song       Streams     Daily\n",
       " 250  White Noise Baby Sleep - Clean White Noise  1.620154e+09  308720.0\n",
       " 414  White Noise Baby Sleep - Clean White Noise  1.361774e+09       NaN,\n",
       "               Artist/Song       Streams      Daily\n",
       " 222  Ed Sheeran - Shivers  1.691417e+09  1017947.0\n",
       " 420  Ed Sheeran - Shivers  1.356315e+09        NaN,\n",
       "                                         Artist/Song       Streams  Daily\n",
       " 733  Brenda Lee - Rockin' Around The Christmas Tree  1.040733e+09    NaN,\n",
       "          Artist/Song      Streams     Daily\n",
       " 1304  Lil Tjay - F.N  768520043.0  259796.0\n",
       " 1895  Lil Tjay - F.N  624709072.0       NaN)"
      ]
     },
     "execution_count": 48,
     "metadata": {},
     "output_type": "execute_result"
    }
   ],
   "source": [
    "# Check if null values are duplicates\n",
    "white_noise = raw_kword_df[raw_kword_df['Artist/Song'] == \"White Noise Baby Sleep - Clean White Noise\"]\n",
    "\n",
    "shivers = raw_kword_df[raw_kword_df['Artist/Song'] == \"Ed Sheeran - Shivers\"]\n",
    "\n",
    "christmas = raw_kword_df[raw_kword_df['Artist/Song'] == \"Brenda Lee - Rockin' Around The Christmas Tree\"]\n",
    "\n",
    "lilTjay = raw_kword_df[raw_kword_df['Artist/Song'] == \"Lil Tjay - F.N\"]\n",
    "white_noise, shivers, christmas, lilTjay"
   ]
  },
  {
   "cell_type": "markdown",
   "metadata": {},
   "source": [
    "Because the second duplicate is null, if there is one, we will drop this one. We will also give all other duplicates the benifit of the doubt and drop the second version listed and keep the first. This is done because that must be a more unpopular version and we would want to capture the best performance."
   ]
  },
  {
   "cell_type": "code",
   "execution_count": 51,
   "metadata": {},
   "outputs": [
    {
     "name": "stdout",
     "output_type": "stream",
     "text": [
      "New duplicates: 0\n"
     ]
    }
   ],
   "source": [
    "# Drop duplicates\n",
    "kworb_noDupe_df = raw_kword_df.drop_duplicates(keep='first')\n",
    "\n",
    "duplicates2 = kworb_noDupe_df['Artist/Song'].duplicated()\n",
    "\n",
    "print(f'New duplicates: {duplicates.sum()}')\n"
   ]
  },
  {
   "cell_type": "markdown",
   "metadata": {},
   "source": [
    "For Rocking around the Christmas tree song we are going to impute that value based on the number of total streams"
   ]
  },
  {
   "cell_type": "code",
   "execution_count": 50,
   "metadata": {},
   "outputs": [
    {
     "ename": "InvalidIndexError",
     "evalue": "(0       True\n1       True\n2       True\n3       True\n4       True\n        ... \n2495    True\n2496    True\n2497    True\n2498    True\n2499    True\nName: Streams, Length: 2500, dtype: bool, 0, 0, 100, 0)",
     "output_type": "error",
     "traceback": [
      "\u001b[0;31m---------------------------------------------------------------------------\u001b[0m",
      "\u001b[0;31mTypeError\u001b[0m                                 Traceback (most recent call last)",
      "File \u001b[0;32m/opt/anaconda3/lib/python3.12/site-packages/pandas/core/indexes/base.py:3805\u001b[0m, in \u001b[0;36mIndex.get_loc\u001b[0;34m(self, key)\u001b[0m\n\u001b[1;32m   3804\u001b[0m \u001b[38;5;28;01mtry\u001b[39;00m:\n\u001b[0;32m-> 3805\u001b[0m     \u001b[38;5;28;01mreturn\u001b[39;00m \u001b[38;5;28mself\u001b[39m\u001b[38;5;241m.\u001b[39m_engine\u001b[38;5;241m.\u001b[39mget_loc(casted_key)\n\u001b[1;32m   3806\u001b[0m \u001b[38;5;28;01mexcept\u001b[39;00m \u001b[38;5;167;01mKeyError\u001b[39;00m \u001b[38;5;28;01mas\u001b[39;00m err:\n",
      "File \u001b[0;32mindex.pyx:167\u001b[0m, in \u001b[0;36mpandas._libs.index.IndexEngine.get_loc\u001b[0;34m()\u001b[0m\n",
      "File \u001b[0;32mindex.pyx:173\u001b[0m, in \u001b[0;36mpandas._libs.index.IndexEngine.get_loc\u001b[0;34m()\u001b[0m\n",
      "\u001b[0;31mTypeError\u001b[0m: '(0       True\n1       True\n2       True\n3       True\n4       True\n        ... \n2495    True\n2496    True\n2497    True\n2498    True\n2499    True\nName: Streams, Length: 2500, dtype: bool, 0, 0, 100, 0)' is an invalid key",
      "\nDuring handling of the above exception, another exception occurred:\n",
      "\u001b[0;31mInvalidIndexError\u001b[0m                         Traceback (most recent call last)",
      "Cell \u001b[0;32mIn[50], line 2\u001b[0m\n\u001b[1;32m      1\u001b[0m \u001b[38;5;66;03m# We need to find the mean daily streams for music with 1,000,000 to 1,100,000 million streams\u001b[39;00m\n\u001b[0;32m----> 2\u001b[0m ranged_streams \u001b[38;5;241m=\u001b[39m kworb_noDupe_df[kworb_noDupe_df[\u001b[38;5;124m'\u001b[39m\u001b[38;5;124mStreams\u001b[39m\u001b[38;5;124m'\u001b[39m] \u001b[38;5;241m>\u001b[39m \u001b[38;5;241m1\u001b[39m,\u001b[38;5;241m000\u001b[39m,\u001b[38;5;241m000\u001b[39m \u001b[38;5;129;01mand\u001b[39;00m kworb_noDupe_df[\u001b[38;5;124m'\u001b[39m\u001b[38;5;124mStreams\u001b[39m\u001b[38;5;124m'\u001b[39m] \u001b[38;5;241m<\u001b[39m \u001b[38;5;241m1\u001b[39m,\u001b[38;5;241m100\u001b[39m,\u001b[38;5;241m000\u001b[39m]\n",
      "File \u001b[0;32m/opt/anaconda3/lib/python3.12/site-packages/pandas/core/frame.py:4102\u001b[0m, in \u001b[0;36mDataFrame.__getitem__\u001b[0;34m(self, key)\u001b[0m\n\u001b[1;32m   4100\u001b[0m \u001b[38;5;28;01mif\u001b[39;00m \u001b[38;5;28mself\u001b[39m\u001b[38;5;241m.\u001b[39mcolumns\u001b[38;5;241m.\u001b[39mnlevels \u001b[38;5;241m>\u001b[39m \u001b[38;5;241m1\u001b[39m:\n\u001b[1;32m   4101\u001b[0m     \u001b[38;5;28;01mreturn\u001b[39;00m \u001b[38;5;28mself\u001b[39m\u001b[38;5;241m.\u001b[39m_getitem_multilevel(key)\n\u001b[0;32m-> 4102\u001b[0m indexer \u001b[38;5;241m=\u001b[39m \u001b[38;5;28mself\u001b[39m\u001b[38;5;241m.\u001b[39mcolumns\u001b[38;5;241m.\u001b[39mget_loc(key)\n\u001b[1;32m   4103\u001b[0m \u001b[38;5;28;01mif\u001b[39;00m is_integer(indexer):\n\u001b[1;32m   4104\u001b[0m     indexer \u001b[38;5;241m=\u001b[39m [indexer]\n",
      "File \u001b[0;32m/opt/anaconda3/lib/python3.12/site-packages/pandas/core/indexes/base.py:3817\u001b[0m, in \u001b[0;36mIndex.get_loc\u001b[0;34m(self, key)\u001b[0m\n\u001b[1;32m   3812\u001b[0m     \u001b[38;5;28;01mraise\u001b[39;00m \u001b[38;5;167;01mKeyError\u001b[39;00m(key) \u001b[38;5;28;01mfrom\u001b[39;00m \u001b[38;5;21;01merr\u001b[39;00m\n\u001b[1;32m   3813\u001b[0m \u001b[38;5;28;01mexcept\u001b[39;00m \u001b[38;5;167;01mTypeError\u001b[39;00m:\n\u001b[1;32m   3814\u001b[0m     \u001b[38;5;66;03m# If we have a listlike key, _check_indexing_error will raise\u001b[39;00m\n\u001b[1;32m   3815\u001b[0m     \u001b[38;5;66;03m#  InvalidIndexError. Otherwise we fall through and re-raise\u001b[39;00m\n\u001b[1;32m   3816\u001b[0m     \u001b[38;5;66;03m#  the TypeError.\u001b[39;00m\n\u001b[0;32m-> 3817\u001b[0m     \u001b[38;5;28mself\u001b[39m\u001b[38;5;241m.\u001b[39m_check_indexing_error(key)\n\u001b[1;32m   3818\u001b[0m     \u001b[38;5;28;01mraise\u001b[39;00m\n",
      "File \u001b[0;32m/opt/anaconda3/lib/python3.12/site-packages/pandas/core/indexes/base.py:6059\u001b[0m, in \u001b[0;36mIndex._check_indexing_error\u001b[0;34m(self, key)\u001b[0m\n\u001b[1;32m   6055\u001b[0m \u001b[38;5;28;01mdef\u001b[39;00m \u001b[38;5;21m_check_indexing_error\u001b[39m(\u001b[38;5;28mself\u001b[39m, key):\n\u001b[1;32m   6056\u001b[0m     \u001b[38;5;28;01mif\u001b[39;00m \u001b[38;5;129;01mnot\u001b[39;00m is_scalar(key):\n\u001b[1;32m   6057\u001b[0m         \u001b[38;5;66;03m# if key is not a scalar, directly raise an error (the code below\u001b[39;00m\n\u001b[1;32m   6058\u001b[0m         \u001b[38;5;66;03m# would convert to numpy arrays and raise later any way) - GH29926\u001b[39;00m\n\u001b[0;32m-> 6059\u001b[0m         \u001b[38;5;28;01mraise\u001b[39;00m InvalidIndexError(key)\n",
      "\u001b[0;31mInvalidIndexError\u001b[0m: (0       True\n1       True\n2       True\n3       True\n4       True\n        ... \n2495    True\n2496    True\n2497    True\n2498    True\n2499    True\nName: Streams, Length: 2500, dtype: bool, 0, 0, 100, 0)"
     ]
    }
   ],
   "source": [
    "# We need to find the mean daily streams for music with 1,000,000 to 1,100,000 million streams\n",
    "ranged_streams = kworb_noDupe_df[kworb_noDupe_df['Streams'] > 1,000,000 and kworb_noDupe_df['Streams'] < 1,100,000]"
   ]
  },
  {
   "cell_type": "code",
   "execution_count": null,
   "metadata": {},
   "outputs": [],
   "source": []
  }
 ],
 "metadata": {
  "kernelspec": {
   "display_name": "base",
   "language": "python",
   "name": "python3"
  },
  "language_info": {
   "codemirror_mode": {
    "name": "ipython",
    "version": 3
   },
   "file_extension": ".py",
   "mimetype": "text/x-python",
   "name": "python",
   "nbconvert_exporter": "python",
   "pygments_lexer": "ipython3",
   "version": "3.12.2"
  }
 },
 "nbformat": 4,
 "nbformat_minor": 2
}
